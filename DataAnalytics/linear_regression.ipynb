{
 "cells": [
  {
   "cell_type": "code",
   "execution_count": 1,
   "metadata": {},
   "outputs": [],
   "source": [
    "import pandas as pd\n",
    "import numpy as np\n",
    "import matplotlib.pyplot as plt\n",
    "import seaborn as seabornInstance\n",
    "from sklearn.model_selection import train_test_split\n",
    "from sklearn.linear_model import LinearRegression\n",
    "from sklearn import metrics\n",
    "import matplotlib.pyplot as plt \n",
    "import requests\n",
    "import csv\n",
    "import json"
   ]
  },
  {
   "cell_type": "code",
   "execution_count": 2,
   "metadata": {},
   "outputs": [],
   "source": [
    "url = 'https://api.covid19india.org/data.json'\n",
    "resp = requests.get(url)\n",
    "resp = resp.json()\n",
    "tested = resp[\"tested\"]\n",
    "# keys = tested.keys()\n",
    "# print(keys)\n",
    "# print(tested)\n",
    "keys = ['_ckd7g', 'source', 'testsconductedbyprivatelabs', 'totalindividualstested', 'totalpositivecases', 'totalsamplestested', 'updatetimestamp']\n",
    "csvFile = open('tested.csv', 'w')\n",
    "csv_writer = csv.writer(csvFile)\n",
    "csv_writer.writerow(keys)\n",
    "for dict_data in tested:\n",
    "    to_append = []\n",
    "    for key in keys:\n",
    "        if not dict_data.get(key, None):\n",
    "            to_append.append('nan')\n",
    "        else:\n",
    "            to_append.append(dict_data.get(key))\n",
    "    csv_writer.writerow(to_append)\n",
    "csvFile.close()"
   ]
  },
  {
   "cell_type": "code",
   "execution_count": 3,
   "metadata": {},
   "outputs": [],
   "source": [
    "dataset = pd.read_csv('tested.csv')"
   ]
  },
  {
   "cell_type": "code",
   "execution_count": 4,
   "metadata": {},
   "outputs": [
    {
     "data": {
      "text/plain": [
       "(28, 7)"
      ]
     },
     "execution_count": 4,
     "metadata": {},
     "output_type": "execute_result"
    }
   ],
   "source": [
    "dataset.shape"
   ]
  },
  {
   "cell_type": "code",
   "execution_count": 5,
   "metadata": {},
   "outputs": [
    {
     "data": {
      "text/html": [
       "<div>\n",
       "<style scoped>\n",
       "    .dataframe tbody tr th:only-of-type {\n",
       "        vertical-align: middle;\n",
       "    }\n",
       "\n",
       "    .dataframe tbody tr th {\n",
       "        vertical-align: top;\n",
       "    }\n",
       "\n",
       "    .dataframe thead th {\n",
       "        text-align: right;\n",
       "    }\n",
       "</style>\n",
       "<table border=\"1\" class=\"dataframe\">\n",
       "  <thead>\n",
       "    <tr style=\"text-align: right;\">\n",
       "      <th></th>\n",
       "      <th>_ckd7g</th>\n",
       "      <th>testsconductedbyprivatelabs</th>\n",
       "      <th>totalindividualstested</th>\n",
       "      <th>totalpositivecases</th>\n",
       "      <th>totalsamplestested</th>\n",
       "    </tr>\n",
       "  </thead>\n",
       "  <tbody>\n",
       "    <tr>\n",
       "      <th>count</th>\n",
       "      <td>19.000000</td>\n",
       "      <td>3.000000</td>\n",
       "      <td>17.000000</td>\n",
       "      <td>24.000000</td>\n",
       "      <td>26.000000</td>\n",
       "    </tr>\n",
       "    <tr>\n",
       "      <th>mean</th>\n",
       "      <td>781.052632</td>\n",
       "      <td>2543.000000</td>\n",
       "      <td>16953.058824</td>\n",
       "      <td>1057.875000</td>\n",
       "      <td>34021.192308</td>\n",
       "    </tr>\n",
       "    <tr>\n",
       "      <th>std</th>\n",
       "      <td>283.115499</td>\n",
       "      <td>1759.849709</td>\n",
       "      <td>5122.459522</td>\n",
       "      <td>1214.502951</td>\n",
       "      <td>26147.792275</td>\n",
       "    </tr>\n",
       "    <tr>\n",
       "      <th>min</th>\n",
       "      <td>0.000000</td>\n",
       "      <td>1334.000000</td>\n",
       "      <td>5900.000000</td>\n",
       "      <td>78.000000</td>\n",
       "      <td>6500.000000</td>\n",
       "    </tr>\n",
       "    <tr>\n",
       "      <th>25%</th>\n",
       "      <td>890.000000</td>\n",
       "      <td>1533.500000</td>\n",
       "      <td>13486.000000</td>\n",
       "      <td>262.250000</td>\n",
       "      <td>16003.500000</td>\n",
       "    </tr>\n",
       "    <tr>\n",
       "      <th>50%</th>\n",
       "      <td>890.000000</td>\n",
       "      <td>1733.000000</td>\n",
       "      <td>16109.000000</td>\n",
       "      <td>476.500000</td>\n",
       "      <td>21779.000000</td>\n",
       "    </tr>\n",
       "    <tr>\n",
       "      <th>75%</th>\n",
       "      <td>890.000000</td>\n",
       "      <td>3147.500000</td>\n",
       "      <td>19974.000000</td>\n",
       "      <td>1741.750000</td>\n",
       "      <td>46660.250000</td>\n",
       "    </tr>\n",
       "    <tr>\n",
       "      <th>max</th>\n",
       "      <td>890.000000</td>\n",
       "      <td>4562.000000</td>\n",
       "      <td>26798.000000</td>\n",
       "      <td>4135.000000</td>\n",
       "      <td>101068.000000</td>\n",
       "    </tr>\n",
       "  </tbody>\n",
       "</table>\n",
       "</div>"
      ],
      "text/plain": [
       "           _ckd7g  testsconductedbyprivatelabs  totalindividualstested  \\\n",
       "count   19.000000                     3.000000               17.000000   \n",
       "mean   781.052632                  2543.000000            16953.058824   \n",
       "std    283.115499                  1759.849709             5122.459522   \n",
       "min      0.000000                  1334.000000             5900.000000   \n",
       "25%    890.000000                  1533.500000            13486.000000   \n",
       "50%    890.000000                  1733.000000            16109.000000   \n",
       "75%    890.000000                  3147.500000            19974.000000   \n",
       "max    890.000000                  4562.000000            26798.000000   \n",
       "\n",
       "       totalpositivecases  totalsamplestested  \n",
       "count           24.000000           26.000000  \n",
       "mean          1057.875000        34021.192308  \n",
       "std           1214.502951        26147.792275  \n",
       "min             78.000000         6500.000000  \n",
       "25%            262.250000        16003.500000  \n",
       "50%            476.500000        21779.000000  \n",
       "75%           1741.750000        46660.250000  \n",
       "max           4135.000000       101068.000000  "
      ]
     },
     "execution_count": 5,
     "metadata": {},
     "output_type": "execute_result"
    }
   ],
   "source": [
    "dataset.describe()"
   ]
  },
  {
   "cell_type": "code",
   "execution_count": 6,
   "metadata": {},
   "outputs": [
    {
     "data": {
      "text/plain": [
       "<matplotlib.axes._subplots.AxesSubplot at 0x7f36d3ff3978>"
      ]
     },
     "execution_count": 6,
     "metadata": {},
     "output_type": "execute_result"
    },
    {
     "data": {
      "image/png": "[encoded data removed]",
      "text/plain": [
       "<Figure size 432x288 with 1 Axes>"
      ]
     },
     "metadata": {
      "needs_background": "light"
     },
     "output_type": "display_data"
    }
   ],
   "source": [
    "dataset.plot(x='totalindividualstested',y='totalpositivecases',style='o')"
   ]
  },
  {
   "cell_type": "code",
   "execution_count": 7,
   "metadata": {},
   "outputs": [
    {
     "data": {
      "text/plain": [
       "<matplotlib.axes._subplots.AxesSubplot at 0x7f36e14b96a0>"
      ]
     },
     "execution_count": 7,
     "metadata": {},
     "output_type": "execute_result"
    },
    {
     "data": {
      "image/png": "[encoded data removed]",
      "text/plain": [
       "<Figure size 432x288 with 1 Axes>"
      ]
     },
     "metadata": {
      "needs_background": "light"
     },
     "output_type": "display_data"
    }
   ],
   "source": [
    "dataset.plot(x='totalindividualstested',y='totalpositivecases',style='o')"
   ]
  },
  {
   "cell_type": "code",
   "execution_count": 8,
   "metadata": {},
   "outputs": [
    {
     "data": {
      "text/plain": [
       "<matplotlib.axes._subplots.AxesSubplot at 0x7f36d3edec88>"
      ]
     },
     "execution_count": 8,
     "metadata": {},
     "output_type": "execute_result"
    },
    {
     "data": {
      "image/png": "[encoded data removed]",
      "text/plain": [
       "<Figure size 432x288 with 1 Axes>"
      ]
     },
     "metadata": {
      "needs_background": "light"
     },
     "output_type": "display_data"
    }
   ],
   "source": [
    "dataset.plot(x='totalsamplestested',y='totalpositivecases',style='o')"
   ]
  },
  {
   "cell_type": "code",
   "execution_count": 9,
   "metadata": {},
   "outputs": [],
   "source": [
    "X = dataset['totalsamplestested'].values.reshape(-1,1)\n",
    "y = dataset['totalpositivecases'].values.reshape(-1,1)"
   ]
  },
  {
   "cell_type": "code",
   "execution_count": 10,
   "metadata": {},
   "outputs": [],
   "source": [
    "X_train, X_test, y_train, y_test = train_test_split(X, y, test_size=0.1, random_state=0)"
   ]
  },
  {
   "cell_type": "code",
   "execution_count": 11,
   "metadata": {},
   "outputs": [
    {
     "data": {
      "text/plain": [
       "array([[    nan],\n",
       "       [ 15404.],\n",
       "       [ 20707.],\n",
       "       [ 69245.],\n",
       "       [ 22694.],\n",
       "       [ 42788.],\n",
       "       [ 79950.],\n",
       "       [    nan],\n",
       "       [ 13125.],\n",
       "       [ 18383.],\n",
       "       [101068.],\n",
       "       [ 89534.],\n",
       "       [ 16999.],\n",
       "       [ 15701.],\n",
       "       [ 14376.],\n",
       "       [ 27688.],\n",
       "       [ 38442.],\n",
       "       [ 18127.],\n",
       "       [ 16911.],\n",
       "       [ 56680.],\n",
       "       [ 14175.],\n",
       "       [  6500.],\n",
       "       [ 47951.],\n",
       "       [ 25144.],\n",
       "       [ 20864.]])"
      ]
     },
     "execution_count": 11,
     "metadata": {},
     "output_type": "execute_result"
    }
   ],
   "source": [
    "X_train"
   ]
  },
  {
   "cell_type": "code",
   "execution_count": 12,
   "metadata": {},
   "outputs": [
    {
     "data": {
      "text/plain": [
       "array([[  nan],\n",
       "       [ 236.],\n",
       "       [ 471.],\n",
       "       [2653.],\n",
       "       [ 536.],\n",
       "       [  nan],\n",
       "       [3113.],\n",
       "       [  nan],\n",
       "       [ 150.],\n",
       "       [ 415.],\n",
       "       [4135.],\n",
       "       [3554.],\n",
       "       [ 341.],\n",
       "       [ 271.],\n",
       "       [ 206.],\n",
       "       [ 691.],\n",
       "       [  nan],\n",
       "       [ 396.],\n",
       "       [ 315.],\n",
       "       [2183.],\n",
       "       [ 182.],\n",
       "       [  78.],\n",
       "       [1637.],\n",
       "       [ 581.],\n",
       "       [ 482.]])"
      ]
     },
     "execution_count": 12,
     "metadata": {},
     "output_type": "execute_result"
    }
   ],
   "source": [
    "y_train"
   ]
  },
  {
   "cell_type": "code",
   "execution_count": 13,
   "metadata": {},
   "outputs": [
    {
     "data": {
      "text/plain": [
       "array([[  nan],\n",
       "       [ 236.],\n",
       "       [ 471.],\n",
       "       [2653.],\n",
       "       [ 536.],\n",
       "       [  nan],\n",
       "       [3113.],\n",
       "       [  nan],\n",
       "       [ 150.],\n",
       "       [ 415.],\n",
       "       [4135.],\n",
       "       [3554.],\n",
       "       [ 341.],\n",
       "       [ 271.],\n",
       "       [ 206.],\n",
       "       [ 691.],\n",
       "       [  nan],\n",
       "       [ 396.],\n",
       "       [ 315.],\n",
       "       [2183.],\n",
       "       [ 182.],\n",
       "       [  78.],\n",
       "       [1637.],\n",
       "       [ 581.],\n",
       "       [ 482.]])"
      ]
     },
     "execution_count": 13,
     "metadata": {},
     "output_type": "execute_result"
    }
   ],
   "source": [
    "y_train"
   ]
  },
  {
   "cell_type": "code",
   "execution_count": 15,
   "metadata": {},
   "outputs": [
    {
     "name": "stderr",
     "output_type": "stream",
     "text": [
      "/snap/jupyter/6/lib/python3.7/site-packages/ipykernel_launcher.py:1: FutureWarning: elementwise comparison failed; returning scalar instead, but in the future will perform elementwise comparison\n",
      "  \"\"\"Entry point for launching an IPython kernel.\n"
     ]
    }
   ],
   "source": [
    "cleanedList = [x for x in y_train if x != 'nan']"
   ]
  },
  {
   "cell_type": "code",
   "execution_count": 16,
   "metadata": {},
   "outputs": [
    {
     "data": {
      "text/plain": [
       "[array([nan]),\n",
       " array([236.]),\n",
       " array([471.]),\n",
       " array([2653.]),\n",
       " array([536.]),\n",
       " array([nan]),\n",
       " array([3113.]),\n",
       " array([nan]),\n",
       " array([150.]),\n",
       " array([415.]),\n",
       " array([4135.]),\n",
       " array([3554.]),\n",
       " array([341.]),\n",
       " array([271.]),\n",
       " array([206.]),\n",
       " array([691.]),\n",
       " array([nan]),\n",
       " array([396.]),\n",
       " array([315.]),\n",
       " array([2183.]),\n",
       " array([182.]),\n",
       " array([78.]),\n",
       " array([1637.]),\n",
       " array([581.]),\n",
       " array([482.])]"
      ]
     },
     "execution_count": 16,
     "metadata": {},
     "output_type": "execute_result"
    }
   ],
   "source": [
    "cleanedList"
   ]
  },
  {
   "cell_type": "code",
   "execution_count": 17,
   "metadata": {},
   "outputs": [
    {
     "data": {
      "text/plain": [
       "numpy.ndarray"
      ]
     },
     "execution_count": 17,
     "metadata": {},
     "output_type": "execute_result"
    }
   ],
   "source": [
    "type(y_train)"
   ]
  },
  {
   "cell_type": "code",
   "execution_count": 18,
   "metadata": {},
   "outputs": [],
   "source": [
    "y_train2 = y_train[~np.isnan(y_train)]"
   ]
  },
  {
   "cell_type": "code",
   "execution_count": 19,
   "metadata": {},
   "outputs": [
    {
     "data": {
      "text/plain": [
       "array([ 236.,  471., 2653.,  536., 3113.,  150.,  415., 4135., 3554.,\n",
       "        341.,  271.,  206.,  691.,  396.,  315., 2183.,  182.,   78.,\n",
       "       1637.,  581.,  482.])"
      ]
     },
     "execution_count": 19,
     "metadata": {},
     "output_type": "execute_result"
    }
   ],
   "source": [
    "y_train2"
   ]
  },
  {
   "cell_type": "code",
   "execution_count": 20,
   "metadata": {},
   "outputs": [],
   "source": [
    "dataset = dataset.dropna(axis=0, subset=['totalpositivecases'])"
   ]
  },
  {
   "cell_type": "code",
   "execution_count": 21,
   "metadata": {},
   "outputs": [
    {
     "data": {
      "text/html": [
       "<div>\n",
       "<style scoped>\n",
       "    .dataframe tbody tr th:only-of-type {\n",
       "        vertical-align: middle;\n",
       "    }\n",
       "\n",
       "    .dataframe tbody tr th {\n",
       "        vertical-align: top;\n",
       "    }\n",
       "\n",
       "    .dataframe thead th {\n",
       "        text-align: right;\n",
       "    }\n",
       "</style>\n",
       "<table border=\"1\" class=\"dataframe\">\n",
       "  <thead>\n",
       "    <tr style=\"text-align: right;\">\n",
       "      <th></th>\n",
       "      <th>_ckd7g</th>\n",
       "      <th>source</th>\n",
       "      <th>testsconductedbyprivatelabs</th>\n",
       "      <th>totalindividualstested</th>\n",
       "      <th>totalpositivecases</th>\n",
       "      <th>totalsamplestested</th>\n",
       "      <th>updatetimestamp</th>\n",
       "    </tr>\n",
       "  </thead>\n",
       "  <tbody>\n",
       "    <tr>\n",
       "      <th>0</th>\n",
       "      <td>600.0</td>\n",
       "      <td>Press_Release_ICMR_13March2020.pdf</td>\n",
       "      <td>NaN</td>\n",
       "      <td>5900.0</td>\n",
       "      <td>78.0</td>\n",
       "      <td>6500.0</td>\n",
       "      <td>13/3/2020 00:00</td>\n",
       "    </tr>\n",
       "    <tr>\n",
       "      <th>1</th>\n",
       "      <td>890.0</td>\n",
       "      <td>ICMR_website_update_18March_6PM_IST.pdf</td>\n",
       "      <td>NaN</td>\n",
       "      <td>12235.0</td>\n",
       "      <td>150.0</td>\n",
       "      <td>13125.0</td>\n",
       "      <td>18/3/2020 18:00</td>\n",
       "    </tr>\n",
       "    <tr>\n",
       "      <th>2</th>\n",
       "      <td>890.0</td>\n",
       "      <td>ICMR_website_update_19March_10AM_IST_V2.pdf</td>\n",
       "      <td>NaN</td>\n",
       "      <td>12426.0</td>\n",
       "      <td>168.0</td>\n",
       "      <td>13316.0</td>\n",
       "      <td>19/3/2020 10:00</td>\n",
       "    </tr>\n",
       "    <tr>\n",
       "      <th>3</th>\n",
       "      <td>890.0</td>\n",
       "      <td>ICMR_website_update_19March_6PM_IST.pdf</td>\n",
       "      <td>NaN</td>\n",
       "      <td>13285.0</td>\n",
       "      <td>182.0</td>\n",
       "      <td>14175.0</td>\n",
       "      <td>19/3/2020 18:00</td>\n",
       "    </tr>\n",
       "    <tr>\n",
       "      <th>4</th>\n",
       "      <td>890.0</td>\n",
       "      <td>ICMR_website_update_20March_10AM_IST.pdf</td>\n",
       "      <td>NaN</td>\n",
       "      <td>13486.0</td>\n",
       "      <td>206.0</td>\n",
       "      <td>14376.0</td>\n",
       "      <td>20/3/2020 10:00</td>\n",
       "    </tr>\n",
       "    <tr>\n",
       "      <th>5</th>\n",
       "      <td>890.0</td>\n",
       "      <td>ICMR_website_update_20March_6PM_IST.pdf</td>\n",
       "      <td>NaN</td>\n",
       "      <td>14514.0</td>\n",
       "      <td>236.0</td>\n",
       "      <td>15404.0</td>\n",
       "      <td>20/3/2020 18:00</td>\n",
       "    </tr>\n",
       "    <tr>\n",
       "      <th>6</th>\n",
       "      <td>890.0</td>\n",
       "      <td>ICMR_website_update_21March_10AM_IST.pdf</td>\n",
       "      <td>NaN</td>\n",
       "      <td>14811.0</td>\n",
       "      <td>271.0</td>\n",
       "      <td>15701.0</td>\n",
       "      <td>21/3/2020 10:00</td>\n",
       "    </tr>\n",
       "    <tr>\n",
       "      <th>7</th>\n",
       "      <td>890.0</td>\n",
       "      <td>ICMR_website_update_21March_6PM_IST.pdf</td>\n",
       "      <td>NaN</td>\n",
       "      <td>16021.0</td>\n",
       "      <td>315.0</td>\n",
       "      <td>16911.0</td>\n",
       "      <td>21/3/2020 18:00</td>\n",
       "    </tr>\n",
       "    <tr>\n",
       "      <th>8</th>\n",
       "      <td>890.0</td>\n",
       "      <td>ICMR_website_update_22March_10AM_IST.pdf</td>\n",
       "      <td>NaN</td>\n",
       "      <td>16109.0</td>\n",
       "      <td>341.0</td>\n",
       "      <td>16999.0</td>\n",
       "      <td>22/3/2020 10:00</td>\n",
       "    </tr>\n",
       "    <tr>\n",
       "      <th>9</th>\n",
       "      <td>890.0</td>\n",
       "      <td>ICMR_website_update_22March_6PM_IST.pdf</td>\n",
       "      <td>NaN</td>\n",
       "      <td>17237.0</td>\n",
       "      <td>396.0</td>\n",
       "      <td>18127.0</td>\n",
       "      <td>22/3/2020 18:00</td>\n",
       "    </tr>\n",
       "    <tr>\n",
       "      <th>10</th>\n",
       "      <td>890.0</td>\n",
       "      <td>ICMR_website_update_23March_10AM_IST.pdf</td>\n",
       "      <td>NaN</td>\n",
       "      <td>17493.0</td>\n",
       "      <td>415.0</td>\n",
       "      <td>18383.0</td>\n",
       "      <td>23/3/2020 10:00</td>\n",
       "    </tr>\n",
       "    <tr>\n",
       "      <th>11</th>\n",
       "      <td>890.0</td>\n",
       "      <td>ICMR_website_update_23March_8PM_IST.pdf</td>\n",
       "      <td>NaN</td>\n",
       "      <td>19817.0</td>\n",
       "      <td>471.0</td>\n",
       "      <td>20707.0</td>\n",
       "      <td>23/3/2020 20:00</td>\n",
       "    </tr>\n",
       "    <tr>\n",
       "      <th>12</th>\n",
       "      <td>890.0</td>\n",
       "      <td>ICMR_website_update_24March_10AM_IST.pdf</td>\n",
       "      <td>NaN</td>\n",
       "      <td>19974.0</td>\n",
       "      <td>482.0</td>\n",
       "      <td>20864.0</td>\n",
       "      <td>24/3/2020 10:00</td>\n",
       "    </tr>\n",
       "    <tr>\n",
       "      <th>13</th>\n",
       "      <td>890.0</td>\n",
       "      <td>ICMR_website_update_24March_8PM_IST.pdf</td>\n",
       "      <td>NaN</td>\n",
       "      <td>21804.0</td>\n",
       "      <td>536.0</td>\n",
       "      <td>22694.0</td>\n",
       "      <td>24/3/2020 20:00</td>\n",
       "    </tr>\n",
       "    <tr>\n",
       "      <th>14</th>\n",
       "      <td>890.0</td>\n",
       "      <td>ICMR_website_update_25March_10AM_IST.pdf</td>\n",
       "      <td>NaN</td>\n",
       "      <td>22038.0</td>\n",
       "      <td>539.0</td>\n",
       "      <td>22928.0</td>\n",
       "      <td>25/3/2020 10:00</td>\n",
       "    </tr>\n",
       "    <tr>\n",
       "      <th>15</th>\n",
       "      <td>890.0</td>\n",
       "      <td>ICMR_website_update_25March_8PM_IST.pdf</td>\n",
       "      <td>NaN</td>\n",
       "      <td>24254.0</td>\n",
       "      <td>581.0</td>\n",
       "      <td>25144.0</td>\n",
       "      <td>25/3/2020 20:00</td>\n",
       "    </tr>\n",
       "    <tr>\n",
       "      <th>18</th>\n",
       "      <td>890.0</td>\n",
       "      <td>ICMR_website_update_27March_9AM_IST.pdf</td>\n",
       "      <td>NaN</td>\n",
       "      <td>26798.0</td>\n",
       "      <td>691.0</td>\n",
       "      <td>27688.0</td>\n",
       "      <td>27/3/2020 09:00</td>\n",
       "    </tr>\n",
       "    <tr>\n",
       "      <th>21</th>\n",
       "      <td>NaN</td>\n",
       "      <td>https://twitter.com/PTI_News/status/1245308976...</td>\n",
       "      <td>4562.0</td>\n",
       "      <td>NaN</td>\n",
       "      <td>1637.0</td>\n",
       "      <td>47951.0</td>\n",
       "      <td>1/4/2020</td>\n",
       "    </tr>\n",
       "    <tr>\n",
       "      <th>22</th>\n",
       "      <td>NaN</td>\n",
       "      <td>ICMR_testing_update_02April_9PM_IST.pdf</td>\n",
       "      <td>NaN</td>\n",
       "      <td>NaN</td>\n",
       "      <td>2056.0</td>\n",
       "      <td>55851.0</td>\n",
       "      <td>2/4/2020 21:00</td>\n",
       "    </tr>\n",
       "    <tr>\n",
       "      <th>23</th>\n",
       "      <td>NaN</td>\n",
       "      <td>ICMR_testing_update_03April_9AM_IST.pdf</td>\n",
       "      <td>NaN</td>\n",
       "      <td>NaN</td>\n",
       "      <td>2183.0</td>\n",
       "      <td>56680.0</td>\n",
       "      <td>3/4/2020 09:00</td>\n",
       "    </tr>\n",
       "    <tr>\n",
       "      <th>24</th>\n",
       "      <td>NaN</td>\n",
       "      <td>ICMR_testing_update_03April_9PM_IST.pdf</td>\n",
       "      <td>NaN</td>\n",
       "      <td>NaN</td>\n",
       "      <td>2653.0</td>\n",
       "      <td>69245.0</td>\n",
       "      <td>3/4/2020 21:00</td>\n",
       "    </tr>\n",
       "    <tr>\n",
       "      <th>25</th>\n",
       "      <td>NaN</td>\n",
       "      <td>https://icmr.nic.in/sites/default/files/whats_...</td>\n",
       "      <td>NaN</td>\n",
       "      <td>NaN</td>\n",
       "      <td>3113.0</td>\n",
       "      <td>79950.0</td>\n",
       "      <td>4/4/2020 21:00</td>\n",
       "    </tr>\n",
       "    <tr>\n",
       "      <th>26</th>\n",
       "      <td>NaN</td>\n",
       "      <td>https://icmr.nic.in/sites/default/files/whats_...</td>\n",
       "      <td>NaN</td>\n",
       "      <td>NaN</td>\n",
       "      <td>3554.0</td>\n",
       "      <td>89534.0</td>\n",
       "      <td>5/4/2020 21:00</td>\n",
       "    </tr>\n",
       "    <tr>\n",
       "      <th>27</th>\n",
       "      <td>NaN</td>\n",
       "      <td>https://icmr.nic.in/sites/default/files/whats_...</td>\n",
       "      <td>NaN</td>\n",
       "      <td>NaN</td>\n",
       "      <td>4135.0</td>\n",
       "      <td>101068.0</td>\n",
       "      <td>6/4/2020 21:00</td>\n",
       "    </tr>\n",
       "  </tbody>\n",
       "</table>\n",
       "</div>"
      ],
      "text/plain": [
       "    _ckd7g                                             source  \\\n",
       "0    600.0                 Press_Release_ICMR_13March2020.pdf   \n",
       "1    890.0            ICMR_website_update_18March_6PM_IST.pdf   \n",
       "2    890.0        ICMR_website_update_19March_10AM_IST_V2.pdf   \n",
       "3    890.0            ICMR_website_update_19March_6PM_IST.pdf   \n",
       "4    890.0           ICMR_website_update_20March_10AM_IST.pdf   \n",
       "5    890.0            ICMR_website_update_20March_6PM_IST.pdf   \n",
       "6    890.0           ICMR_website_update_21March_10AM_IST.pdf   \n",
       "7    890.0            ICMR_website_update_21March_6PM_IST.pdf   \n",
       "8    890.0           ICMR_website_update_22March_10AM_IST.pdf   \n",
       "9    890.0            ICMR_website_update_22March_6PM_IST.pdf   \n",
       "10   890.0           ICMR_website_update_23March_10AM_IST.pdf   \n",
       "11   890.0            ICMR_website_update_23March_8PM_IST.pdf   \n",
       "12   890.0           ICMR_website_update_24March_10AM_IST.pdf   \n",
       "13   890.0            ICMR_website_update_24March_8PM_IST.pdf   \n",
       "14   890.0           ICMR_website_update_25March_10AM_IST.pdf   \n",
       "15   890.0            ICMR_website_update_25March_8PM_IST.pdf   \n",
       "18   890.0            ICMR_website_update_27March_9AM_IST.pdf   \n",
       "21     NaN  https://twitter.com/PTI_News/status/1245308976...   \n",
       "22     NaN            ICMR_testing_update_02April_9PM_IST.pdf   \n",
       "23     NaN            ICMR_testing_update_03April_9AM_IST.pdf   \n",
       "24     NaN            ICMR_testing_update_03April_9PM_IST.pdf   \n",
       "25     NaN  https://icmr.nic.in/sites/default/files/whats_...   \n",
       "26     NaN  https://icmr.nic.in/sites/default/files/whats_...   \n",
       "27     NaN  https://icmr.nic.in/sites/default/files/whats_...   \n",
       "\n",
       "    testsconductedbyprivatelabs  totalindividualstested  totalpositivecases  \\\n",
       "0                           NaN                  5900.0                78.0   \n",
       "1                           NaN                 12235.0               150.0   \n",
       "2                           NaN                 12426.0               168.0   \n",
       "3                           NaN                 13285.0               182.0   \n",
       "4                           NaN                 13486.0               206.0   \n",
       "5                           NaN                 14514.0               236.0   \n",
       "6                           NaN                 14811.0               271.0   \n",
       "7                           NaN                 16021.0               315.0   \n",
       "8                           NaN                 16109.0               341.0   \n",
       "9                           NaN                 17237.0               396.0   \n",
       "10                          NaN                 17493.0               415.0   \n",
       "11                          NaN                 19817.0               471.0   \n",
       "12                          NaN                 19974.0               482.0   \n",
       "13                          NaN                 21804.0               536.0   \n",
       "14                          NaN                 22038.0               539.0   \n",
       "15                          NaN                 24254.0               581.0   \n",
       "18                          NaN                 26798.0               691.0   \n",
       "21                       4562.0                     NaN              1637.0   \n",
       "22                          NaN                     NaN              2056.0   \n",
       "23                          NaN                     NaN              2183.0   \n",
       "24                          NaN                     NaN              2653.0   \n",
       "25                          NaN                     NaN              3113.0   \n",
       "26                          NaN                     NaN              3554.0   \n",
       "27                          NaN                     NaN              4135.0   \n",
       "\n",
       "    totalsamplestested  updatetimestamp  \n",
       "0               6500.0  13/3/2020 00:00  \n",
       "1              13125.0  18/3/2020 18:00  \n",
       "2              13316.0  19/3/2020 10:00  \n",
       "3              14175.0  19/3/2020 18:00  \n",
       "4              14376.0  20/3/2020 10:00  \n",
       "5              15404.0  20/3/2020 18:00  \n",
       "6              15701.0  21/3/2020 10:00  \n",
       "7              16911.0  21/3/2020 18:00  \n",
       "8              16999.0  22/3/2020 10:00  \n",
       "9              18127.0  22/3/2020 18:00  \n",
       "10             18383.0  23/3/2020 10:00  \n",
       "11             20707.0  23/3/2020 20:00  \n",
       "12             20864.0  24/3/2020 10:00  \n",
       "13             22694.0  24/3/2020 20:00  \n",
       "14             22928.0  25/3/2020 10:00  \n",
       "15             25144.0  25/3/2020 20:00  \n",
       "18             27688.0  27/3/2020 09:00  \n",
       "21             47951.0         1/4/2020  \n",
       "22             55851.0   2/4/2020 21:00  \n",
       "23             56680.0   3/4/2020 09:00  \n",
       "24             69245.0   3/4/2020 21:00  \n",
       "25             79950.0   4/4/2020 21:00  \n",
       "26             89534.0   5/4/2020 21:00  \n",
       "27            101068.0   6/4/2020 21:00  "
      ]
     },
     "execution_count": 21,
     "metadata": {},
     "output_type": "execute_result"
    }
   ],
   "source": [
    "dataset"
   ]
  },
  {
   "cell_type": "code",
   "execution_count": 22,
   "metadata": {},
   "outputs": [],
   "source": [
    "X = dataset['totalsamplestested'].values.reshape(-1,1)\n",
    "y = dataset['totalpositivecases'].values.reshape(-1,1)"
   ]
  },
  {
   "cell_type": "code",
   "execution_count": 23,
   "metadata": {},
   "outputs": [
    {
     "data": {
      "text/plain": [
       "array([[  6500.],\n",
       "       [ 13125.],\n",
       "       [ 13316.],\n",
       "       [ 14175.],\n",
       "       [ 14376.],\n",
       "       [ 15404.],\n",
       "       [ 15701.],\n",
       "       [ 16911.],\n",
       "       [ 16999.],\n",
       "       [ 18127.],\n",
       "       [ 18383.],\n",
       "       [ 20707.],\n",
       "       [ 20864.],\n",
       "       [ 22694.],\n",
       "       [ 22928.],\n",
       "       [ 25144.],\n",
       "       [ 27688.],\n",
       "       [ 47951.],\n",
       "       [ 55851.],\n",
       "       [ 56680.],\n",
       "       [ 69245.],\n",
       "       [ 79950.],\n",
       "       [ 89534.],\n",
       "       [101068.]])"
      ]
     },
     "execution_count": 23,
     "metadata": {},
     "output_type": "execute_result"
    }
   ],
   "source": [
    "X"
   ]
  },
  {
   "cell_type": "code",
   "execution_count": 24,
   "metadata": {},
   "outputs": [],
   "source": [
    "X_train, X_test, y_train, y_test = train_test_split(X, y, test_size=0.1, random_state=0)"
   ]
  },
  {
   "cell_type": "code",
   "execution_count": 25,
   "metadata": {},
   "outputs": [
    {
     "data": {
      "text/plain": [
       "array([[ 22928.],\n",
       "       [ 69245.],\n",
       "       [ 13125.],\n",
       "       [ 22694.],\n",
       "       [101068.],\n",
       "       [ 27688.],\n",
       "       [ 16999.],\n",
       "       [ 15701.],\n",
       "       [ 47951.],\n",
       "       [ 14376.],\n",
       "       [ 13316.],\n",
       "       [ 15404.],\n",
       "       [ 55851.],\n",
       "       [ 18127.],\n",
       "       [ 16911.],\n",
       "       [ 56680.],\n",
       "       [ 14175.],\n",
       "       [  6500.],\n",
       "       [ 79950.],\n",
       "       [ 25144.],\n",
       "       [ 20864.]])"
      ]
     },
     "execution_count": 25,
     "metadata": {},
     "output_type": "execute_result"
    }
   ],
   "source": [
    "X_train"
   ]
  },
  {
   "cell_type": "code",
   "execution_count": 26,
   "metadata": {},
   "outputs": [
    {
     "data": {
      "text/plain": [
       "LinearRegression(copy_X=True, fit_intercept=True, n_jobs=None, normalize=False)"
      ]
     },
     "execution_count": 26,
     "metadata": {},
     "output_type": "execute_result"
    }
   ],
   "source": [
    "regressor = LinearRegression()  \n",
    "regressor.fit(X_train, y_train) #training the algorithm"
   ]
  },
  {
   "cell_type": "code",
   "execution_count": 29,
   "metadata": {},
   "outputs": [
    {
     "name": "stdout",
     "output_type": "stream",
     "text": [
      "[-437.39258122]\n",
      "[[0.04466337]]\n"
     ]
    }
   ],
   "source": [
    "#To retrieve the intercept:\n",
    "print(regressor.intercept_)\n",
    "#For retrieving the slope:\n",
    "print(regressor.coef_)\n"
   ]
  },
  {
   "cell_type": "code",
   "execution_count": 30,
   "metadata": {},
   "outputs": [],
   "source": [
    "y_pred = regressor.predict(X_test)"
   ]
  },
  {
   "cell_type": "code",
   "execution_count": 31,
   "metadata": {},
   "outputs": [
    {
     "data": {
      "text/plain": [
       "array([[ 487.45189677],\n",
       "       [ 383.65421643],\n",
       "       [3561.49791437]])"
      ]
     },
     "execution_count": 31,
     "metadata": {},
     "output_type": "execute_result"
    }
   ],
   "source": [
    "y_pred"
   ]
  },
  {
   "cell_type": "code",
   "execution_count": 32,
   "metadata": {},
   "outputs": [
    {
     "data": {
      "text/plain": [
       "array([[20707.],\n",
       "       [18383.],\n",
       "       [89534.]])"
      ]
     },
     "execution_count": 32,
     "metadata": {},
     "output_type": "execute_result"
    }
   ],
   "source": [
    "X_test"
   ]
  },
  {
   "cell_type": "code",
   "execution_count": 35,
   "metadata": {},
   "outputs": [
    {
     "data": {
      "text/plain": [
       "(array([[3135.67731007]]), array([[20707.],\n",
       "        [18383.],\n",
       "        [89534.]]))"
      ]
     },
     "execution_count": 35,
     "metadata": {},
     "output_type": "execute_result"
    }
   ],
   "source": [
    "y_pred,X_test"
   ]
  },
  {
   "cell_type": "code",
   "execution_count": 36,
   "metadata": {},
   "outputs": [],
   "source": [
    "y_pred = regressor.predict([[80000.]])"
   ]
  },
  {
   "cell_type": "code",
   "execution_count": 37,
   "metadata": {},
   "outputs": [
    {
     "data": {
      "text/plain": [
       "array([[3135.67731007]])"
      ]
     },
     "execution_count": 37,
     "metadata": {},
     "output_type": "execute_result"
    }
   ],
   "source": [
    "y_pred"
   ]
  },
  {
   "cell_type": "code",
   "execution_count": null,
   "metadata": {},
   "outputs": [],
   "source": []
  }
 ],
 "metadata": {
  "kernelspec": {
   "display_name": "Python 3",
   "language": "python",
   "name": "python3"
  },
  "language_info": {
   "codemirror_mode": {
    "name": "ipython",
    "version": 3
   },
   "file_extension": ".py",
   "mimetype": "text/x-python",
   "name": "python",
   "nbconvert_exporter": "python",
   "pygments_lexer": "ipython3",
   "version": "3.7.3"
  }
 },
 "nbformat": 4,
 "nbformat_minor": 2
}
